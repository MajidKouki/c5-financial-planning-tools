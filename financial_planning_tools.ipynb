{
 "cells": [
  {
   "cell_type": "markdown",
   "metadata": {},
   "source": [
    "# Financial Planning with APIs and Simulations\n",
    "\n",
    "In this Challenge, you’ll create two financial analysis tools by using a single Jupyter notebook:\n",
    "\n",
    "Part 1: A financial planner for emergencies. The members will be able to use this tool to visualize their current savings. The members can then determine if they have enough reserves for an emergency fund.\n",
    "\n",
    "Part 2: A financial planner for retirement. This tool will forecast the performance of their retirement portfolio in 30 years. To do this, the tool will make an Alpaca API call via the Alpaca SDK to get historical price data for use in Monte Carlo simulations.\n",
    "\n",
    "You’ll use the information from the Monte Carlo simulation to answer questions about the portfolio in your Jupyter notebook.\n",
    "\n"
   ]
  },
  {
   "cell_type": "code",
   "execution_count": 1,
   "metadata": {},
   "outputs": [],
   "source": [
    "# Initial imports\n",
    "import os\n",
    "import json\n",
    "import requests\n",
    "import pandas as pd\n",
    "from dotenv import load_dotenv\n",
    "import alpaca_trade_api as tradeapi\n",
    "from MCForecastTools import MCSimulation\n",
    "\n",
    "# Plot inline\n",
    "%matplotlib inline"
   ]
  },
  {
   "cell_type": "code",
   "execution_count": 2,
   "metadata": {},
   "outputs": [
    {
     "data": {
      "text/plain": [
       "True"
      ]
     },
     "execution_count": 2,
     "metadata": {},
     "output_type": "execute_result"
    }
   ],
   "source": [
    "# Load the environment variables from the .env file\n",
    "load_dotenv()"
   ]
  },
  {
   "cell_type": "markdown",
   "metadata": {},
   "source": [
    "## Part 1: Create a Financial Planner for Emergencies"
   ]
  },
  {
   "cell_type": "markdown",
   "metadata": {},
   "source": [
    "### Evaluate the Cryptocurrency Wallet by Using the Requests Library"
   ]
  },
  {
   "cell_type": "code",
   "execution_count": 3,
   "metadata": {},
   "outputs": [],
   "source": [
    "# The current number of coins for each cryptocurrency asset held in the portfolio\n",
    "btc_coins = 1.2\n",
    "eth_coins = 5.3"
   ]
  },
  {
   "cell_type": "code",
   "execution_count": 4,
   "metadata": {},
   "outputs": [],
   "source": [
    "# The monthly amount for the member's household income\n",
    "monthly_income = 12000"
   ]
  },
  {
   "cell_type": "code",
   "execution_count": 5,
   "metadata": {},
   "outputs": [],
   "source": [
    "# The Free Crypto API Call endpoint URLs for the held cryptocurrency assets\n",
    "btc_url = \"https://api.alternative.me/v2/ticker/Bitcoin/?convert=USD\"\n",
    "eth_url = \"https://api.alternative.me/v2/ticker/Ethereum/?convert=USD\""
   ]
  },
  {
   "cell_type": "code",
   "execution_count": null,
   "metadata": {},
   "outputs": [],
   "source": [
    "# Make an API call to access the current price of BTC\n",
    "btc_response = requests.get(btc_url).json()\n",
    "\n",
    "# Review the response data from the API call\n",
    "print(json.dumps(btc_response, indent = 4, sort_keys = True))"
   ]
  },
  {
   "cell_type": "code",
   "execution_count": null,
   "metadata": {},
   "outputs": [],
   "source": [
    "# Make an API call to access the current price of ETH\n",
    "eth_response = requests.get(eth_url).json()\n",
    "\n",
    "# Review the response data from the API call\n",
    "print(json.dumps(eth_response, indent = 4, sort_keys = True))"
   ]
  },
  {
   "cell_type": "code",
   "execution_count": 12,
   "metadata": {},
   "outputs": [
    {
     "name": "stdout",
     "output_type": "stream",
     "text": [
      "The current price of Bitcoin is $21158\n"
     ]
    }
   ],
   "source": [
    "# Navigate the BTC response object to access the current price of BTC\n",
    "btc_price = btc_response[\"data\"][\"1\"][\"quotes\"][\"USD\"][\"price\"]\n",
    "\n",
    "# Print the current price of BTC\n",
    "print(f\"The current price of Bitcoin is ${btc_price:.0f}\")"
   ]
  },
  {
   "cell_type": "code",
   "execution_count": 11,
   "metadata": {},
   "outputs": [
    {
     "name": "stdout",
     "output_type": "stream",
     "text": [
      "The current price of Ethereum is $1160\n"
     ]
    }
   ],
   "source": [
    "# Navigate the ETH response object to access the current price of ETH\n",
    "eth_price = eth_response[\"data\"][\"1027\"][\"quotes\"][\"USD\"][\"price\"]\n",
    "\n",
    "# Print the current price of ETH\n",
    "print(f\"The current price of Ethereum is ${eth_price:.0f}\")"
   ]
  },
  {
   "cell_type": "code",
   "execution_count": 14,
   "metadata": {},
   "outputs": [
    {
     "name": "stdout",
     "output_type": "stream",
     "text": [
      "The value of the BTC holding is $25389.60\n"
     ]
    }
   ],
   "source": [
    "# Compute the current value of the BTC holding \n",
    "btc_value = btc_coins * btc_price\n",
    "\n",
    "# Print current value of the holding in BTC\n",
    "print(f\"The value of the Bitcoin holding is ${btc_value:.2f}\")"
   ]
  },
  {
   "cell_type": "code",
   "execution_count": 15,
   "metadata": {},
   "outputs": [
    {
     "name": "stdout",
     "output_type": "stream",
     "text": [
      "The value of the Ethereum holding is $6146.20\n"
     ]
    }
   ],
   "source": [
    "# Compute the current value of the ETH holding \n",
    "eth_value = eth_coins * eth_price\n",
    "\n",
    "# Print current value of the holding in ETH\n",
    "print(f\"The value of the Ethereum holding is ${eth_value:.2f}\")"
   ]
  },
  {
   "cell_type": "code",
   "execution_count": 16,
   "metadata": {},
   "outputs": [
    {
     "name": "stdout",
     "output_type": "stream",
     "text": [
      "The current value of the entire crypto wallet is $31535.80\n"
     ]
    }
   ],
   "source": [
    "# Compute the total value of the cryptocurrency wallet\n",
    "total_crypto_wallet = btc_value + eth_value\n",
    "\n",
    "# Print the current cryptocurrency wallet balance\n",
    "print(f\"The current value of the entire crypto wallet is ${total_crypto_wallet:.2f}\")"
   ]
  },
  {
   "cell_type": "markdown",
   "metadata": {},
   "source": [
    "### Evaluate the Stock and Bond Holdings by Using the Alpaca SDK"
   ]
  },
  {
   "cell_type": "code",
   "execution_count": 17,
   "metadata": {},
   "outputs": [],
   "source": [
    "# Current amount of shares held in both the stock (SPY) and bond (AGG) portion of the portfolio\n",
    "spy_shares = 110\n",
    "agg_shares = 200"
   ]
  },
  {
   "cell_type": "code",
   "execution_count": 23,
   "metadata": {},
   "outputs": [],
   "source": [
    "# Set the variables for the Alpaca API and secret keys\n",
    "alpaca_api_key = os.getenv(\"ALPACA_API_KEY\")\n",
    "alpaca_secret_key = os.getenv(\"ALPACA_SECRET_KEY\")\n",
    "\n",
    "# Create the Alpaca tradeapi.REST object\n",
    "alpaca = tradeapi.REST(\n",
    "    alpaca_api_key,\n",
    "    alpaca_secret_key,\n",
    "    api_version = \"V2\"\n",
    ")"
   ]
  },
  {
   "cell_type": "code",
   "execution_count": 36,
   "metadata": {},
   "outputs": [],
   "source": [
    "# Set the tickers for both the bond and stock portion of the portfolio\n",
    "tickers = [\"SPY\", \"AGG\"]\n",
    "\n",
    "# Set timeframe to 1Day\n",
    "timeframe = \"1Day\"\n",
    "\n",
    "# Set the start and end date\n",
    "start_date = pd.Timestamp(\"2022-06-23\", tz=\"America/New_York\").isoformat()\n",
    "end_date = pd.Timestamp(\"2022-06-23\", tz=\"America/New_York\").isoformat()\n"
   ]
  },
  {
   "cell_type": "code",
   "execution_count": 37,
   "metadata": {},
   "outputs": [
    {
     "data": {
      "text/html": [
       "<div>\n",
       "<style scoped>\n",
       "    .dataframe tbody tr th:only-of-type {\n",
       "        vertical-align: middle;\n",
       "    }\n",
       "\n",
       "    .dataframe tbody tr th {\n",
       "        vertical-align: top;\n",
       "    }\n",
       "\n",
       "    .dataframe thead tr th {\n",
       "        text-align: left;\n",
       "    }\n",
       "\n",
       "    .dataframe thead tr:last-of-type th {\n",
       "        text-align: right;\n",
       "    }\n",
       "</style>\n",
       "<table border=\"1\" class=\"dataframe\">\n",
       "  <thead>\n",
       "    <tr>\n",
       "      <th></th>\n",
       "      <th colspan=\"7\" halign=\"left\">SPY</th>\n",
       "      <th colspan=\"7\" halign=\"left\">AGG</th>\n",
       "    </tr>\n",
       "    <tr>\n",
       "      <th></th>\n",
       "      <th>open</th>\n",
       "      <th>high</th>\n",
       "      <th>low</th>\n",
       "      <th>close</th>\n",
       "      <th>volume</th>\n",
       "      <th>trade_count</th>\n",
       "      <th>vwap</th>\n",
       "      <th>open</th>\n",
       "      <th>high</th>\n",
       "      <th>low</th>\n",
       "      <th>close</th>\n",
       "      <th>volume</th>\n",
       "      <th>trade_count</th>\n",
       "      <th>vwap</th>\n",
       "    </tr>\n",
       "    <tr>\n",
       "      <th>timestamp</th>\n",
       "      <th></th>\n",
       "      <th></th>\n",
       "      <th></th>\n",
       "      <th></th>\n",
       "      <th></th>\n",
       "      <th></th>\n",
       "      <th></th>\n",
       "      <th></th>\n",
       "      <th></th>\n",
       "      <th></th>\n",
       "      <th></th>\n",
       "      <th></th>\n",
       "      <th></th>\n",
       "      <th></th>\n",
       "    </tr>\n",
       "  </thead>\n",
       "  <tbody>\n",
       "    <tr>\n",
       "      <th>2022-06-23 04:00:00+00:00</th>\n",
       "      <td>376.69</td>\n",
       "      <td>378.83</td>\n",
       "      <td>372.89</td>\n",
       "      <td>378.06</td>\n",
       "      <td>78643521</td>\n",
       "      <td>623105</td>\n",
       "      <td>376.219755</td>\n",
       "      <td>101.25</td>\n",
       "      <td>101.76</td>\n",
       "      <td>101.125</td>\n",
       "      <td>101.21</td>\n",
       "      <td>7760715</td>\n",
       "      <td>25697</td>\n",
       "      <td>101.363615</td>\n",
       "    </tr>\n",
       "  </tbody>\n",
       "</table>\n",
       "</div>"
      ],
      "text/plain": [
       "                              SPY                                    \\\n",
       "                             open    high     low   close    volume   \n",
       "timestamp                                                             \n",
       "2022-06-23 04:00:00+00:00  376.69  378.83  372.89  378.06  78643521   \n",
       "\n",
       "                                                      AGG                   \\\n",
       "                          trade_count        vwap    open    high      low   \n",
       "timestamp                                                                    \n",
       "2022-06-23 04:00:00+00:00      623105  376.219755  101.25  101.76  101.125   \n",
       "\n",
       "                                                                    \n",
       "                            close   volume trade_count        vwap  \n",
       "timestamp                                                           \n",
       "2022-06-23 04:00:00+00:00  101.21  7760715       25697  101.363615  "
      ]
     },
     "execution_count": 37,
     "metadata": {},
     "output_type": "execute_result"
    }
   ],
   "source": [
    "# Use the Alpaca get_bars function to get current closing prices the portfolio\n",
    "prices_df = alpaca.get_bars(\n",
    "    tickers,\n",
    "    timeframe,\n",
    "    start = start_date,\n",
    "    end = end_date\n",
    ").df\n",
    "\n",
    "# Reorganize the DataFrame\n",
    "# Separate ticker data\n",
    "SPY = prices_df[prices_df['symbol']=='SPY'].drop('symbol', axis=1)\n",
    "AGG = prices_df[prices_df['symbol']=='AGG'].drop('symbol', axis=1)\n",
    "\n",
    "# Concatenate the ticker DataFrames\n",
    "prices_df = pd.concat([SPY, AGG], axis=1, keys=[\"SPY\", \"AGG\"])\n",
    "\n",
    "# Use .head() to verify\n",
    "prices_df.head()"
   ]
  },
  {
   "cell_type": "code",
   "execution_count": 38,
   "metadata": {},
   "outputs": [
    {
     "name": "stdout",
     "output_type": "stream",
     "text": [
      "The closing price of AGG is $101.21\n"
     ]
    }
   ],
   "source": [
    "# Access the closing price for AGG from the Alpaca DataFrame and convert to float\n",
    "agg_close_price = float(prices_df[\"AGG\"][\"close\"])\n",
    "\n",
    "# Print the AGG closing price\n",
    "print(f\"The closing price of AGG is ${agg_close_price:.2f}\")\n"
   ]
  },
  {
   "cell_type": "code",
   "execution_count": 39,
   "metadata": {},
   "outputs": [
    {
     "name": "stdout",
     "output_type": "stream",
     "text": [
      "The closing price of SPY is $378.06\n"
     ]
    }
   ],
   "source": [
    "# Access the closing price for SPY from the Alpaca DataFrame and convert to float\n",
    "spy_close_price = float(prices_df[\"SPY\"][\"close\"])\n",
    "\n",
    "# Print the SPY closing price\n",
    "print(f\"The closing price of SPY is ${spy_close_price:.2f}\")"
   ]
  },
  {
   "cell_type": "code",
   "execution_count": 40,
   "metadata": {},
   "outputs": [
    {
     "name": "stdout",
     "output_type": "stream",
     "text": [
      "The current value of the bond portfolio is $20242.00\n"
     ]
    }
   ],
   "source": [
    "# Calculate the current value of the bond portion of the portfolio\n",
    "agg_value = agg_shares * agg_close_price\n",
    "\n",
    "# Print the current value of the bond portfolio\n",
    "print(f\"The current value of the bond portfolio is ${agg_value:.2f}\")"
   ]
  },
  {
   "cell_type": "code",
   "execution_count": 41,
   "metadata": {},
   "outputs": [
    {
     "name": "stdout",
     "output_type": "stream",
     "text": [
      "The current value of the stock portfolio is $41586.60\n"
     ]
    }
   ],
   "source": [
    "# Calculate the current value of the stock portion of the portfolio\n",
    "spy_value = spy_shares * spy_close_price\n",
    "\n",
    "# Print the current value of the stock portfolio\n",
    "print(f\"The current value of the stock portfolio is ${spy_value:.2f}\")"
   ]
  },
  {
   "cell_type": "code",
   "execution_count": 42,
   "metadata": {},
   "outputs": [
    {
     "name": "stdout",
     "output_type": "stream",
     "text": [
      "The total value of the stock & bond portion of the portfolio is $61828.60\n"
     ]
    }
   ],
   "source": [
    "# Calculate the total value of the stock and bond portion of the portfolio\n",
    "total_stocks_bonds = spy_value + agg_value\n",
    "\n",
    "# Print the current balance of the stock and bond portion of the portfolio\n",
    "print(f\"The total value of the stock & bond portion of the portfolio is ${total_stocks_bonds:.2f}\")"
   ]
  },
  {
   "cell_type": "code",
   "execution_count": 43,
   "metadata": {},
   "outputs": [
    {
     "name": "stdout",
     "output_type": "stream",
     "text": [
      "The value of the entire portfolio is $93364.40\n"
     ]
    }
   ],
   "source": [
    "# Calculate the total value of the member's entire savings portfolio\n",
    "total_portfolio = total_stocks_bonds + total_crypto_wallet\n",
    "\n",
    "# Print the total value of the member's entire savings portfolio\n",
    "print(f\"The value of the entire portfolio is ${total_portfolio:.2f}\")"
   ]
  },
  {
   "cell_type": "markdown",
   "metadata": {},
   "source": [
    "### Evaluate the Emergency Fund"
   ]
  },
  {
   "cell_type": "code",
   "execution_count": 44,
   "metadata": {},
   "outputs": [
    {
     "name": "stdout",
     "output_type": "stream",
     "text": [
      "[31535.798, 61828.6]\n"
     ]
    }
   ],
   "source": [
    "# Consolidate financial assets data into a Python list\n",
    "savings_data = [total_crypto_wallet, total_stocks_bonds]\n",
    "\n",
    "# Review the Python list savings_data\n",
    "print(savings_data)    "
   ]
  },
  {
   "cell_type": "code",
   "execution_count": 45,
   "metadata": {},
   "outputs": [
    {
     "data": {
      "text/html": [
       "<div>\n",
       "<style scoped>\n",
       "    .dataframe tbody tr th:only-of-type {\n",
       "        vertical-align: middle;\n",
       "    }\n",
       "\n",
       "    .dataframe tbody tr th {\n",
       "        vertical-align: top;\n",
       "    }\n",
       "\n",
       "    .dataframe thead th {\n",
       "        text-align: right;\n",
       "    }\n",
       "</style>\n",
       "<table border=\"1\" class=\"dataframe\">\n",
       "  <thead>\n",
       "    <tr style=\"text-align: right;\">\n",
       "      <th></th>\n",
       "      <th>amount</th>\n",
       "    </tr>\n",
       "  </thead>\n",
       "  <tbody>\n",
       "    <tr>\n",
       "      <th>crypto</th>\n",
       "      <td>31535.798</td>\n",
       "    </tr>\n",
       "    <tr>\n",
       "      <th>stock/bond</th>\n",
       "      <td>61828.600</td>\n",
       "    </tr>\n",
       "  </tbody>\n",
       "</table>\n",
       "</div>"
      ],
      "text/plain": [
       "               amount\n",
       "crypto      31535.798\n",
       "stock/bond  61828.600"
      ]
     },
     "execution_count": 45,
     "metadata": {},
     "output_type": "execute_result"
    }
   ],
   "source": [
    "# Create a Pandas DataFrame called savings_df \n",
    "savings_df = pd.DataFrame(\n",
    "    savings_data,\n",
    "    columns = [\"amount\"],\n",
    "    index = [\"crypto\", \"stock/bond\"]\n",
    ")\n",
    "\n",
    "# Display the savings_df DataFrame\n",
    "savings_df"
   ]
  },
  {
   "cell_type": "code",
   "execution_count": 60,
   "metadata": {},
   "outputs": [
    {
     "data": {
      "text/plain": [
       "<AxesSubplot:title={'center':'Breakdown of Savings Portfolio'}, ylabel='amount'>"
      ]
     },
     "execution_count": 60,
     "metadata": {},
     "output_type": "execute_result"
    },
    {
     "data": {
      "image/png": "[encoded data removed]",
      "text/plain": [
       "<Figure size 1080x720 with 1 Axes>"
      ]
     },
     "metadata": {},
     "output_type": "display_data"
    }
   ],
   "source": [
    "# Plot the total value of the member's portfolio (crypto and stock/bond) in a pie chart\n",
    "savings_df.plot.pie(title=\"Breakdown of Savings Portfolio\", figsize=(15, 10), y=\"amount\")"
   ]
  },
  {
   "cell_type": "code",
   "execution_count": 49,
   "metadata": {},
   "outputs": [],
   "source": [
    "# Create a variable named emergency_fund_value\n",
    "emergency_fund_value = monthly_income * 3"
   ]
  },
  {
   "cell_type": "code",
   "execution_count": 50,
   "metadata": {},
   "outputs": [
    {
     "name": "stdout",
     "output_type": "stream",
     "text": [
      "Congratulations! You have more than enough savings to fund your emergency portfolio!\n"
     ]
    }
   ],
   "source": [
    "# Evaluate the possibility of creating an emergency fund with 3 conditions:\n",
    "emergency_fund_difference = emergency_fund_value - total_portfolio\n",
    "\n",
    "if total_portfolio > emergency_fund_value:\n",
    "    print(\"Congratulations! You have more than enough savings to fund your emergency portfolio!\")\n",
    "elif total_portfolio == emergency_fund_value:\n",
    "    print(\"Congratulations! You've reached an important financial goal and have enough funds for your emergency portfolio.\")\n",
    "else:\n",
    "    print(f\"Almost there! Looks like you are ${emergency_fund_difference} away from being able to fund your emergency portfolio\")"
   ]
  },
  {
   "cell_type": "markdown",
   "metadata": {},
   "source": [
    "## Part 2: Create a Financial Planner for Retirement"
   ]
  },
  {
   "cell_type": "markdown",
   "metadata": {},
   "source": [
    "### Create the Monte Carlo Simulation"
   ]
  },
  {
   "cell_type": "code",
   "execution_count": 52,
   "metadata": {},
   "outputs": [],
   "source": [
    "# Set start and end dates of 3 years back from current date\n",
    "start_date_carlo = pd.Timestamp(\"2019-06-23\", tz=\"America/New_York\").isoformat()\n",
    "end_date_carlo = pd.Timestamp(\"2022-06-23\", tz=\"America/New_York\").isoformat()"
   ]
  },
  {
   "cell_type": "code",
   "execution_count": 55,
   "metadata": {},
   "outputs": [
    {
     "data": {
      "text/html": [
       "<div>\n",
       "<style scoped>\n",
       "    .dataframe tbody tr th:only-of-type {\n",
       "        vertical-align: middle;\n",
       "    }\n",
       "\n",
       "    .dataframe tbody tr th {\n",
       "        vertical-align: top;\n",
       "    }\n",
       "\n",
       "    .dataframe thead tr th {\n",
       "        text-align: left;\n",
       "    }\n",
       "\n",
       "    .dataframe thead tr:last-of-type th {\n",
       "        text-align: right;\n",
       "    }\n",
       "</style>\n",
       "<table border=\"1\" class=\"dataframe\">\n",
       "  <thead>\n",
       "    <tr>\n",
       "      <th></th>\n",
       "      <th colspan=\"7\" halign=\"left\">SPY</th>\n",
       "      <th colspan=\"7\" halign=\"left\">AGG</th>\n",
       "    </tr>\n",
       "    <tr>\n",
       "      <th></th>\n",
       "      <th>open</th>\n",
       "      <th>high</th>\n",
       "      <th>low</th>\n",
       "      <th>close</th>\n",
       "      <th>volume</th>\n",
       "      <th>trade_count</th>\n",
       "      <th>vwap</th>\n",
       "      <th>open</th>\n",
       "      <th>high</th>\n",
       "      <th>low</th>\n",
       "      <th>close</th>\n",
       "      <th>volume</th>\n",
       "      <th>trade_count</th>\n",
       "      <th>vwap</th>\n",
       "    </tr>\n",
       "    <tr>\n",
       "      <th>timestamp</th>\n",
       "      <th></th>\n",
       "      <th></th>\n",
       "      <th></th>\n",
       "      <th></th>\n",
       "      <th></th>\n",
       "      <th></th>\n",
       "      <th></th>\n",
       "      <th></th>\n",
       "      <th></th>\n",
       "      <th></th>\n",
       "      <th></th>\n",
       "      <th></th>\n",
       "      <th></th>\n",
       "      <th></th>\n",
       "    </tr>\n",
       "  </thead>\n",
       "  <tbody>\n",
       "    <tr>\n",
       "      <th>2019-06-24 04:00:00+00:00</th>\n",
       "      <td>294.18</td>\n",
       "      <td>294.580</td>\n",
       "      <td>293.4700</td>\n",
       "      <td>293.64</td>\n",
       "      <td>47610730</td>\n",
       "      <td>203286</td>\n",
       "      <td>293.971447</td>\n",
       "      <td>111.23</td>\n",
       "      <td>111.3766</td>\n",
       "      <td>111.2200</td>\n",
       "      <td>111.32</td>\n",
       "      <td>3079794</td>\n",
       "      <td>16767</td>\n",
       "      <td>111.300802</td>\n",
       "    </tr>\n",
       "    <tr>\n",
       "      <th>2019-06-25 04:00:00+00:00</th>\n",
       "      <td>293.67</td>\n",
       "      <td>293.730</td>\n",
       "      <td>290.6400</td>\n",
       "      <td>290.76</td>\n",
       "      <td>82344336</td>\n",
       "      <td>301447</td>\n",
       "      <td>292.000459</td>\n",
       "      <td>111.36</td>\n",
       "      <td>111.4400</td>\n",
       "      <td>111.2200</td>\n",
       "      <td>111.34</td>\n",
       "      <td>3111092</td>\n",
       "      <td>14344</td>\n",
       "      <td>111.364505</td>\n",
       "    </tr>\n",
       "    <tr>\n",
       "      <th>2019-06-26 04:00:00+00:00</th>\n",
       "      <td>291.78</td>\n",
       "      <td>292.310</td>\n",
       "      <td>290.3450</td>\n",
       "      <td>290.47</td>\n",
       "      <td>52064906</td>\n",
       "      <td>226135</td>\n",
       "      <td>291.035618</td>\n",
       "      <td>111.29</td>\n",
       "      <td>111.3100</td>\n",
       "      <td>111.0600</td>\n",
       "      <td>111.09</td>\n",
       "      <td>3703224</td>\n",
       "      <td>13654</td>\n",
       "      <td>111.151757</td>\n",
       "    </tr>\n",
       "    <tr>\n",
       "      <th>2019-06-27 04:00:00+00:00</th>\n",
       "      <td>291.29</td>\n",
       "      <td>292.060</td>\n",
       "      <td>290.8900</td>\n",
       "      <td>291.50</td>\n",
       "      <td>40484164</td>\n",
       "      <td>185583</td>\n",
       "      <td>291.584832</td>\n",
       "      <td>111.25</td>\n",
       "      <td>111.4100</td>\n",
       "      <td>111.1633</td>\n",
       "      <td>111.40</td>\n",
       "      <td>2963646</td>\n",
       "      <td>14735</td>\n",
       "      <td>111.338162</td>\n",
       "    </tr>\n",
       "    <tr>\n",
       "      <th>2019-06-28 04:00:00+00:00</th>\n",
       "      <td>292.57</td>\n",
       "      <td>293.550</td>\n",
       "      <td>292.0100</td>\n",
       "      <td>293.00</td>\n",
       "      <td>59508955</td>\n",
       "      <td>246484</td>\n",
       "      <td>292.797839</td>\n",
       "      <td>111.36</td>\n",
       "      <td>111.4684</td>\n",
       "      <td>111.3200</td>\n",
       "      <td>111.35</td>\n",
       "      <td>9887791</td>\n",
       "      <td>19668</td>\n",
       "      <td>111.395360</td>\n",
       "    </tr>\n",
       "    <tr>\n",
       "      <th>...</th>\n",
       "      <td>...</td>\n",
       "      <td>...</td>\n",
       "      <td>...</td>\n",
       "      <td>...</td>\n",
       "      <td>...</td>\n",
       "      <td>...</td>\n",
       "      <td>...</td>\n",
       "      <td>...</td>\n",
       "      <td>...</td>\n",
       "      <td>...</td>\n",
       "      <td>...</td>\n",
       "      <td>...</td>\n",
       "      <td>...</td>\n",
       "      <td>...</td>\n",
       "    </tr>\n",
       "    <tr>\n",
       "      <th>2022-06-16 04:00:00+00:00</th>\n",
       "      <td>370.54</td>\n",
       "      <td>370.940</td>\n",
       "      <td>364.0799</td>\n",
       "      <td>366.65</td>\n",
       "      <td>134508514</td>\n",
       "      <td>906307</td>\n",
       "      <td>368.466260</td>\n",
       "      <td>99.24</td>\n",
       "      <td>100.3600</td>\n",
       "      <td>99.1432</td>\n",
       "      <td>100.35</td>\n",
       "      <td>9328681</td>\n",
       "      <td>33998</td>\n",
       "      <td>99.905633</td>\n",
       "    </tr>\n",
       "    <tr>\n",
       "      <th>2022-06-17 04:00:00+00:00</th>\n",
       "      <td>365.43</td>\n",
       "      <td>369.380</td>\n",
       "      <td>362.1700</td>\n",
       "      <td>365.86</td>\n",
       "      <td>109255759</td>\n",
       "      <td>821350</td>\n",
       "      <td>366.263193</td>\n",
       "      <td>100.42</td>\n",
       "      <td>100.5700</td>\n",
       "      <td>99.9800</td>\n",
       "      <td>100.34</td>\n",
       "      <td>9891839</td>\n",
       "      <td>26374</td>\n",
       "      <td>100.372650</td>\n",
       "    </tr>\n",
       "    <tr>\n",
       "      <th>2022-06-21 04:00:00+00:00</th>\n",
       "      <td>371.90</td>\n",
       "      <td>376.525</td>\n",
       "      <td>371.8100</td>\n",
       "      <td>375.07</td>\n",
       "      <td>76966205</td>\n",
       "      <td>578265</td>\n",
       "      <td>374.376305</td>\n",
       "      <td>100.02</td>\n",
       "      <td>100.2600</td>\n",
       "      <td>99.7900</td>\n",
       "      <td>99.94</td>\n",
       "      <td>7769462</td>\n",
       "      <td>24356</td>\n",
       "      <td>99.992280</td>\n",
       "    </tr>\n",
       "    <tr>\n",
       "      <th>2022-06-22 04:00:00+00:00</th>\n",
       "      <td>370.68</td>\n",
       "      <td>378.720</td>\n",
       "      <td>370.1800</td>\n",
       "      <td>374.39</td>\n",
       "      <td>89625876</td>\n",
       "      <td>604343</td>\n",
       "      <td>375.146941</td>\n",
       "      <td>100.67</td>\n",
       "      <td>100.9296</td>\n",
       "      <td>100.6650</td>\n",
       "      <td>100.79</td>\n",
       "      <td>9430887</td>\n",
       "      <td>30103</td>\n",
       "      <td>100.802688</td>\n",
       "    </tr>\n",
       "    <tr>\n",
       "      <th>2022-06-23 04:00:00+00:00</th>\n",
       "      <td>376.69</td>\n",
       "      <td>378.830</td>\n",
       "      <td>372.8900</td>\n",
       "      <td>378.06</td>\n",
       "      <td>78643521</td>\n",
       "      <td>623105</td>\n",
       "      <td>376.219755</td>\n",
       "      <td>101.25</td>\n",
       "      <td>101.7600</td>\n",
       "      <td>101.1250</td>\n",
       "      <td>101.21</td>\n",
       "      <td>7760715</td>\n",
       "      <td>25697</td>\n",
       "      <td>101.363615</td>\n",
       "    </tr>\n",
       "  </tbody>\n",
       "</table>\n",
       "<p>757 rows × 14 columns</p>\n",
       "</div>"
      ],
      "text/plain": [
       "                              SPY                                        \\\n",
       "                             open     high       low   close     volume   \n",
       "timestamp                                                                 \n",
       "2019-06-24 04:00:00+00:00  294.18  294.580  293.4700  293.64   47610730   \n",
       "2019-06-25 04:00:00+00:00  293.67  293.730  290.6400  290.76   82344336   \n",
       "2019-06-26 04:00:00+00:00  291.78  292.310  290.3450  290.47   52064906   \n",
       "2019-06-27 04:00:00+00:00  291.29  292.060  290.8900  291.50   40484164   \n",
       "2019-06-28 04:00:00+00:00  292.57  293.550  292.0100  293.00   59508955   \n",
       "...                           ...      ...       ...     ...        ...   \n",
       "2022-06-16 04:00:00+00:00  370.54  370.940  364.0799  366.65  134508514   \n",
       "2022-06-17 04:00:00+00:00  365.43  369.380  362.1700  365.86  109255759   \n",
       "2022-06-21 04:00:00+00:00  371.90  376.525  371.8100  375.07   76966205   \n",
       "2022-06-22 04:00:00+00:00  370.68  378.720  370.1800  374.39   89625876   \n",
       "2022-06-23 04:00:00+00:00  376.69  378.830  372.8900  378.06   78643521   \n",
       "\n",
       "                                                      AGG                      \\\n",
       "                          trade_count        vwap    open      high       low   \n",
       "timestamp                                                                       \n",
       "2019-06-24 04:00:00+00:00      203286  293.971447  111.23  111.3766  111.2200   \n",
       "2019-06-25 04:00:00+00:00      301447  292.000459  111.36  111.4400  111.2200   \n",
       "2019-06-26 04:00:00+00:00      226135  291.035618  111.29  111.3100  111.0600   \n",
       "2019-06-27 04:00:00+00:00      185583  291.584832  111.25  111.4100  111.1633   \n",
       "2019-06-28 04:00:00+00:00      246484  292.797839  111.36  111.4684  111.3200   \n",
       "...                               ...         ...     ...       ...       ...   \n",
       "2022-06-16 04:00:00+00:00      906307  368.466260   99.24  100.3600   99.1432   \n",
       "2022-06-17 04:00:00+00:00      821350  366.263193  100.42  100.5700   99.9800   \n",
       "2022-06-21 04:00:00+00:00      578265  374.376305  100.02  100.2600   99.7900   \n",
       "2022-06-22 04:00:00+00:00      604343  375.146941  100.67  100.9296  100.6650   \n",
       "2022-06-23 04:00:00+00:00      623105  376.219755  101.25  101.7600  101.1250   \n",
       "\n",
       "                                                                    \n",
       "                            close   volume trade_count        vwap  \n",
       "timestamp                                                           \n",
       "2019-06-24 04:00:00+00:00  111.32  3079794       16767  111.300802  \n",
       "2019-06-25 04:00:00+00:00  111.34  3111092       14344  111.364505  \n",
       "2019-06-26 04:00:00+00:00  111.09  3703224       13654  111.151757  \n",
       "2019-06-27 04:00:00+00:00  111.40  2963646       14735  111.338162  \n",
       "2019-06-28 04:00:00+00:00  111.35  9887791       19668  111.395360  \n",
       "...                           ...      ...         ...         ...  \n",
       "2022-06-16 04:00:00+00:00  100.35  9328681       33998   99.905633  \n",
       "2022-06-17 04:00:00+00:00  100.34  9891839       26374  100.372650  \n",
       "2022-06-21 04:00:00+00:00   99.94  7769462       24356   99.992280  \n",
       "2022-06-22 04:00:00+00:00  100.79  9430887       30103  100.802688  \n",
       "2022-06-23 04:00:00+00:00  101.21  7760715       25697  101.363615  \n",
       "\n",
       "[757 rows x 14 columns]"
      ]
     },
     "execution_count": 55,
     "metadata": {},
     "output_type": "execute_result"
    }
   ],
   "source": [
    "# Use the Alpaca get_bars function to make the API call to get the 3 years worth of pricing data\n",
    "carlo_three_year_data = alpaca.get_bars(\n",
    "    tickers,\n",
    "    timeframe,\n",
    "    start = start_date_carlo,\n",
    "    end = end_date_carlo\n",
    ").df\n",
    "\n",
    "# Reorganize the DataFrame\n",
    "# Separate ticker data\n",
    "SPY = carlo_three_year_data[carlo_three_year_data['symbol']=='SPY'].drop('symbol', axis=1)\n",
    "AGG = carlo_three_year_data[carlo_three_year_data['symbol']=='AGG'].drop('symbol', axis=1)\n",
    "\n",
    "# Concatenate the ticker DataFrames\n",
    "carlo_three_year_data = pd.concat([SPY, AGG], axis=1, keys=[\"SPY\", \"AGG\"])\n",
    "\n",
    "# Verify data\n",
    "carlo_three_year_data"
   ]
  },
  {
   "cell_type": "code",
   "execution_count": 57,
   "metadata": {},
   "outputs": [
    {
     "data": {
      "text/html": [
       "<div>\n",
       "<style scoped>\n",
       "    .dataframe tbody tr th:only-of-type {\n",
       "        vertical-align: middle;\n",
       "    }\n",
       "\n",
       "    .dataframe tbody tr th {\n",
       "        vertical-align: top;\n",
       "    }\n",
       "\n",
       "    .dataframe thead tr th {\n",
       "        text-align: left;\n",
       "    }\n",
       "\n",
       "    .dataframe thead tr:last-of-type th {\n",
       "        text-align: right;\n",
       "    }\n",
       "</style>\n",
       "<table border=\"1\" class=\"dataframe\">\n",
       "  <thead>\n",
       "    <tr>\n",
       "      <th></th>\n",
       "      <th colspan=\"8\" halign=\"left\">SPY</th>\n",
       "      <th colspan=\"8\" halign=\"left\">AGG</th>\n",
       "    </tr>\n",
       "    <tr>\n",
       "      <th></th>\n",
       "      <th>open</th>\n",
       "      <th>high</th>\n",
       "      <th>low</th>\n",
       "      <th>close</th>\n",
       "      <th>volume</th>\n",
       "      <th>trade_count</th>\n",
       "      <th>vwap</th>\n",
       "      <th>daily_return</th>\n",
       "      <th>open</th>\n",
       "      <th>high</th>\n",
       "      <th>low</th>\n",
       "      <th>close</th>\n",
       "      <th>volume</th>\n",
       "      <th>trade_count</th>\n",
       "      <th>vwap</th>\n",
       "      <th>daily_return</th>\n",
       "    </tr>\n",
       "    <tr>\n",
       "      <th>timestamp</th>\n",
       "      <th></th>\n",
       "      <th></th>\n",
       "      <th></th>\n",
       "      <th></th>\n",
       "      <th></th>\n",
       "      <th></th>\n",
       "      <th></th>\n",
       "      <th></th>\n",
       "      <th></th>\n",
       "      <th></th>\n",
       "      <th></th>\n",
       "      <th></th>\n",
       "      <th></th>\n",
       "      <th></th>\n",
       "      <th></th>\n",
       "      <th></th>\n",
       "    </tr>\n",
       "  </thead>\n",
       "  <tbody>\n",
       "    <tr>\n",
       "      <th>2019-06-24 04:00:00+00:00</th>\n",
       "      <td>294.18</td>\n",
       "      <td>294.580</td>\n",
       "      <td>293.4700</td>\n",
       "      <td>293.64</td>\n",
       "      <td>47610730</td>\n",
       "      <td>203286</td>\n",
       "      <td>293.971447</td>\n",
       "      <td>NaN</td>\n",
       "      <td>111.23</td>\n",
       "      <td>111.3766</td>\n",
       "      <td>111.2200</td>\n",
       "      <td>111.32</td>\n",
       "      <td>3079794</td>\n",
       "      <td>16767</td>\n",
       "      <td>111.300802</td>\n",
       "      <td>NaN</td>\n",
       "    </tr>\n",
       "    <tr>\n",
       "      <th>2019-06-25 04:00:00+00:00</th>\n",
       "      <td>293.67</td>\n",
       "      <td>293.730</td>\n",
       "      <td>290.6400</td>\n",
       "      <td>290.76</td>\n",
       "      <td>82344336</td>\n",
       "      <td>301447</td>\n",
       "      <td>292.000459</td>\n",
       "      <td>-0.009808</td>\n",
       "      <td>111.36</td>\n",
       "      <td>111.4400</td>\n",
       "      <td>111.2200</td>\n",
       "      <td>111.34</td>\n",
       "      <td>3111092</td>\n",
       "      <td>14344</td>\n",
       "      <td>111.364505</td>\n",
       "      <td>0.000180</td>\n",
       "    </tr>\n",
       "    <tr>\n",
       "      <th>2019-06-26 04:00:00+00:00</th>\n",
       "      <td>291.78</td>\n",
       "      <td>292.310</td>\n",
       "      <td>290.3450</td>\n",
       "      <td>290.47</td>\n",
       "      <td>52064906</td>\n",
       "      <td>226135</td>\n",
       "      <td>291.035618</td>\n",
       "      <td>-0.000997</td>\n",
       "      <td>111.29</td>\n",
       "      <td>111.3100</td>\n",
       "      <td>111.0600</td>\n",
       "      <td>111.09</td>\n",
       "      <td>3703224</td>\n",
       "      <td>13654</td>\n",
       "      <td>111.151757</td>\n",
       "      <td>-0.002245</td>\n",
       "    </tr>\n",
       "    <tr>\n",
       "      <th>2019-06-27 04:00:00+00:00</th>\n",
       "      <td>291.29</td>\n",
       "      <td>292.060</td>\n",
       "      <td>290.8900</td>\n",
       "      <td>291.50</td>\n",
       "      <td>40484164</td>\n",
       "      <td>185583</td>\n",
       "      <td>291.584832</td>\n",
       "      <td>0.003546</td>\n",
       "      <td>111.25</td>\n",
       "      <td>111.4100</td>\n",
       "      <td>111.1633</td>\n",
       "      <td>111.40</td>\n",
       "      <td>2963646</td>\n",
       "      <td>14735</td>\n",
       "      <td>111.338162</td>\n",
       "      <td>0.002791</td>\n",
       "    </tr>\n",
       "    <tr>\n",
       "      <th>2019-06-28 04:00:00+00:00</th>\n",
       "      <td>292.57</td>\n",
       "      <td>293.550</td>\n",
       "      <td>292.0100</td>\n",
       "      <td>293.00</td>\n",
       "      <td>59508955</td>\n",
       "      <td>246484</td>\n",
       "      <td>292.797839</td>\n",
       "      <td>0.005146</td>\n",
       "      <td>111.36</td>\n",
       "      <td>111.4684</td>\n",
       "      <td>111.3200</td>\n",
       "      <td>111.35</td>\n",
       "      <td>9887791</td>\n",
       "      <td>19668</td>\n",
       "      <td>111.395360</td>\n",
       "      <td>-0.000449</td>\n",
       "    </tr>\n",
       "    <tr>\n",
       "      <th>...</th>\n",
       "      <td>...</td>\n",
       "      <td>...</td>\n",
       "      <td>...</td>\n",
       "      <td>...</td>\n",
       "      <td>...</td>\n",
       "      <td>...</td>\n",
       "      <td>...</td>\n",
       "      <td>...</td>\n",
       "      <td>...</td>\n",
       "      <td>...</td>\n",
       "      <td>...</td>\n",
       "      <td>...</td>\n",
       "      <td>...</td>\n",
       "      <td>...</td>\n",
       "      <td>...</td>\n",
       "      <td>...</td>\n",
       "    </tr>\n",
       "    <tr>\n",
       "      <th>2022-06-16 04:00:00+00:00</th>\n",
       "      <td>370.54</td>\n",
       "      <td>370.940</td>\n",
       "      <td>364.0799</td>\n",
       "      <td>366.65</td>\n",
       "      <td>134508514</td>\n",
       "      <td>906307</td>\n",
       "      <td>368.466260</td>\n",
       "      <td>-0.033096</td>\n",
       "      <td>99.24</td>\n",
       "      <td>100.3600</td>\n",
       "      <td>99.1432</td>\n",
       "      <td>100.35</td>\n",
       "      <td>9328681</td>\n",
       "      <td>33998</td>\n",
       "      <td>99.905633</td>\n",
       "      <td>0.002397</td>\n",
       "    </tr>\n",
       "    <tr>\n",
       "      <th>2022-06-17 04:00:00+00:00</th>\n",
       "      <td>365.43</td>\n",
       "      <td>369.380</td>\n",
       "      <td>362.1700</td>\n",
       "      <td>365.86</td>\n",
       "      <td>109255759</td>\n",
       "      <td>821350</td>\n",
       "      <td>366.263193</td>\n",
       "      <td>-0.002155</td>\n",
       "      <td>100.42</td>\n",
       "      <td>100.5700</td>\n",
       "      <td>99.9800</td>\n",
       "      <td>100.34</td>\n",
       "      <td>9891839</td>\n",
       "      <td>26374</td>\n",
       "      <td>100.372650</td>\n",
       "      <td>-0.000100</td>\n",
       "    </tr>\n",
       "    <tr>\n",
       "      <th>2022-06-21 04:00:00+00:00</th>\n",
       "      <td>371.90</td>\n",
       "      <td>376.525</td>\n",
       "      <td>371.8100</td>\n",
       "      <td>375.07</td>\n",
       "      <td>76966205</td>\n",
       "      <td>578265</td>\n",
       "      <td>374.376305</td>\n",
       "      <td>0.025174</td>\n",
       "      <td>100.02</td>\n",
       "      <td>100.2600</td>\n",
       "      <td>99.7900</td>\n",
       "      <td>99.94</td>\n",
       "      <td>7769462</td>\n",
       "      <td>24356</td>\n",
       "      <td>99.992280</td>\n",
       "      <td>-0.003986</td>\n",
       "    </tr>\n",
       "    <tr>\n",
       "      <th>2022-06-22 04:00:00+00:00</th>\n",
       "      <td>370.68</td>\n",
       "      <td>378.720</td>\n",
       "      <td>370.1800</td>\n",
       "      <td>374.39</td>\n",
       "      <td>89625876</td>\n",
       "      <td>604343</td>\n",
       "      <td>375.146941</td>\n",
       "      <td>-0.001813</td>\n",
       "      <td>100.67</td>\n",
       "      <td>100.9296</td>\n",
       "      <td>100.6650</td>\n",
       "      <td>100.79</td>\n",
       "      <td>9430887</td>\n",
       "      <td>30103</td>\n",
       "      <td>100.802688</td>\n",
       "      <td>0.008505</td>\n",
       "    </tr>\n",
       "    <tr>\n",
       "      <th>2022-06-23 04:00:00+00:00</th>\n",
       "      <td>376.69</td>\n",
       "      <td>378.830</td>\n",
       "      <td>372.8900</td>\n",
       "      <td>378.06</td>\n",
       "      <td>78643521</td>\n",
       "      <td>623105</td>\n",
       "      <td>376.219755</td>\n",
       "      <td>0.009803</td>\n",
       "      <td>101.25</td>\n",
       "      <td>101.7600</td>\n",
       "      <td>101.1250</td>\n",
       "      <td>101.21</td>\n",
       "      <td>7760715</td>\n",
       "      <td>25697</td>\n",
       "      <td>101.363615</td>\n",
       "      <td>0.004167</td>\n",
       "    </tr>\n",
       "  </tbody>\n",
       "</table>\n",
       "<p>757 rows × 16 columns</p>\n",
       "</div>"
      ],
      "text/plain": [
       "                              SPY                                        \\\n",
       "                             open     high       low   close     volume   \n",
       "timestamp                                                                 \n",
       "2019-06-24 04:00:00+00:00  294.18  294.580  293.4700  293.64   47610730   \n",
       "2019-06-25 04:00:00+00:00  293.67  293.730  290.6400  290.76   82344336   \n",
       "2019-06-26 04:00:00+00:00  291.78  292.310  290.3450  290.47   52064906   \n",
       "2019-06-27 04:00:00+00:00  291.29  292.060  290.8900  291.50   40484164   \n",
       "2019-06-28 04:00:00+00:00  292.57  293.550  292.0100  293.00   59508955   \n",
       "...                           ...      ...       ...     ...        ...   \n",
       "2022-06-16 04:00:00+00:00  370.54  370.940  364.0799  366.65  134508514   \n",
       "2022-06-17 04:00:00+00:00  365.43  369.380  362.1700  365.86  109255759   \n",
       "2022-06-21 04:00:00+00:00  371.90  376.525  371.8100  375.07   76966205   \n",
       "2022-06-22 04:00:00+00:00  370.68  378.720  370.1800  374.39   89625876   \n",
       "2022-06-23 04:00:00+00:00  376.69  378.830  372.8900  378.06   78643521   \n",
       "\n",
       "                                                                   AGG  \\\n",
       "                          trade_count        vwap daily_return    open   \n",
       "timestamp                                                                \n",
       "2019-06-24 04:00:00+00:00      203286  293.971447          NaN  111.23   \n",
       "2019-06-25 04:00:00+00:00      301447  292.000459    -0.009808  111.36   \n",
       "2019-06-26 04:00:00+00:00      226135  291.035618    -0.000997  111.29   \n",
       "2019-06-27 04:00:00+00:00      185583  291.584832     0.003546  111.25   \n",
       "2019-06-28 04:00:00+00:00      246484  292.797839     0.005146  111.36   \n",
       "...                               ...         ...          ...     ...   \n",
       "2022-06-16 04:00:00+00:00      906307  368.466260    -0.033096   99.24   \n",
       "2022-06-17 04:00:00+00:00      821350  366.263193    -0.002155  100.42   \n",
       "2022-06-21 04:00:00+00:00      578265  374.376305     0.025174  100.02   \n",
       "2022-06-22 04:00:00+00:00      604343  375.146941    -0.001813  100.67   \n",
       "2022-06-23 04:00:00+00:00      623105  376.219755     0.009803  101.25   \n",
       "\n",
       "                                                                            \\\n",
       "                               high       low   close   volume trade_count   \n",
       "timestamp                                                                    \n",
       "2019-06-24 04:00:00+00:00  111.3766  111.2200  111.32  3079794       16767   \n",
       "2019-06-25 04:00:00+00:00  111.4400  111.2200  111.34  3111092       14344   \n",
       "2019-06-26 04:00:00+00:00  111.3100  111.0600  111.09  3703224       13654   \n",
       "2019-06-27 04:00:00+00:00  111.4100  111.1633  111.40  2963646       14735   \n",
       "2019-06-28 04:00:00+00:00  111.4684  111.3200  111.35  9887791       19668   \n",
       "...                             ...       ...     ...      ...         ...   \n",
       "2022-06-16 04:00:00+00:00  100.3600   99.1432  100.35  9328681       33998   \n",
       "2022-06-17 04:00:00+00:00  100.5700   99.9800  100.34  9891839       26374   \n",
       "2022-06-21 04:00:00+00:00  100.2600   99.7900   99.94  7769462       24356   \n",
       "2022-06-22 04:00:00+00:00  100.9296  100.6650  100.79  9430887       30103   \n",
       "2022-06-23 04:00:00+00:00  101.7600  101.1250  101.21  7760715       25697   \n",
       "\n",
       "                                                    \n",
       "                                 vwap daily_return  \n",
       "timestamp                                           \n",
       "2019-06-24 04:00:00+00:00  111.300802          NaN  \n",
       "2019-06-25 04:00:00+00:00  111.364505     0.000180  \n",
       "2019-06-26 04:00:00+00:00  111.151757    -0.002245  \n",
       "2019-06-27 04:00:00+00:00  111.338162     0.002791  \n",
       "2019-06-28 04:00:00+00:00  111.395360    -0.000449  \n",
       "...                               ...          ...  \n",
       "2022-06-16 04:00:00+00:00   99.905633     0.002397  \n",
       "2022-06-17 04:00:00+00:00  100.372650    -0.000100  \n",
       "2022-06-21 04:00:00+00:00   99.992280    -0.003986  \n",
       "2022-06-22 04:00:00+00:00  100.802688     0.008505  \n",
       "2022-06-23 04:00:00+00:00  101.363615     0.004167  \n",
       "\n",
       "[757 rows x 16 columns]"
      ]
     },
     "execution_count": 57,
     "metadata": {},
     "output_type": "execute_result"
    }
   ],
   "source": [
    "# Configure the Monte Carlo simulation to forecast 30 years cumulative returns with 60/40 split\n",
    "MC_60_40_split_30_year = MCSimulation(\n",
    "    portfolio_data = carlo_three_year_data,\n",
    "    weights = [.60, .40],\n",
    "    num_simulation = 500,\n",
    "    num_trading_days = 252 * 30\n",
    ")\n",
    "\n",
    "# Review the simulation input data\n",
    "MC_60_40_split_30_year.portfolio_data"
   ]
  },
  {
   "cell_type": "code",
   "execution_count": 58,
   "metadata": {},
   "outputs": [
    {
     "name": "stdout",
     "output_type": "stream",
     "text": [
      "Running Monte Carlo simulation number 0.\n",
      "Running Monte Carlo simulation number 10.\n",
      "Running Monte Carlo simulation number 20.\n",
      "Running Monte Carlo simulation number 30.\n",
      "Running Monte Carlo simulation number 40.\n",
      "Running Monte Carlo simulation number 50.\n",
      "Running Monte Carlo simulation number 60.\n",
      "Running Monte Carlo simulation number 70.\n",
      "Running Monte Carlo simulation number 80.\n",
      "Running Monte Carlo simulation number 90.\n",
      "Running Monte Carlo simulation number 100.\n"
     ]
    },
    {
     "name": "stderr",
     "output_type": "stream",
     "text": [
      "/Users/majidkouki/Desktop/fintech_workspace/fintech_challenges/c5-financial-planning-tools/MCForecastTools.py:117: PerformanceWarning: DataFrame is highly fragmented.  This is usually the result of calling `frame.insert` many times, which has poor performance.  Consider joining all columns at once using pd.concat(axis=1) instead.  To get a de-fragmented frame, use `newframe = frame.copy()`\n",
      "  portfolio_cumulative_returns[n] = (1 + sim_df.fillna(0)).cumprod()\n"
     ]
    },
    {
     "name": "stdout",
     "output_type": "stream",
     "text": [
      "Running Monte Carlo simulation number 110.\n",
      "Running Monte Carlo simulation number 120.\n",
      "Running Monte Carlo simulation number 130.\n",
      "Running Monte Carlo simulation number 140.\n",
      "Running Monte Carlo simulation number 150.\n",
      "Running Monte Carlo simulation number 160.\n",
      "Running Monte Carlo simulation number 170.\n",
      "Running Monte Carlo simulation number 180.\n",
      "Running Monte Carlo simulation number 190.\n",
      "Running Monte Carlo simulation number 200.\n",
      "Running Monte Carlo simulation number 210.\n",
      "Running Monte Carlo simulation number 220.\n",
      "Running Monte Carlo simulation number 230.\n",
      "Running Monte Carlo simulation number 240.\n",
      "Running Monte Carlo simulation number 250.\n",
      "Running Monte Carlo simulation number 260.\n",
      "Running Monte Carlo simulation number 270.\n",
      "Running Monte Carlo simulation number 280.\n",
      "Running Monte Carlo simulation number 290.\n",
      "Running Monte Carlo simulation number 300.\n",
      "Running Monte Carlo simulation number 310.\n",
      "Running Monte Carlo simulation number 320.\n",
      "Running Monte Carlo simulation number 330.\n",
      "Running Monte Carlo simulation number 340.\n",
      "Running Monte Carlo simulation number 350.\n",
      "Running Monte Carlo simulation number 360.\n",
      "Running Monte Carlo simulation number 370.\n",
      "Running Monte Carlo simulation number 380.\n",
      "Running Monte Carlo simulation number 390.\n",
      "Running Monte Carlo simulation number 400.\n",
      "Running Monte Carlo simulation number 410.\n",
      "Running Monte Carlo simulation number 420.\n",
      "Running Monte Carlo simulation number 430.\n",
      "Running Monte Carlo simulation number 440.\n",
      "Running Monte Carlo simulation number 450.\n",
      "Running Monte Carlo simulation number 460.\n",
      "Running Monte Carlo simulation number 470.\n",
      "Running Monte Carlo simulation number 480.\n",
      "Running Monte Carlo simulation number 490.\n"
     ]
    },
    {
     "data": {
      "text/html": [
       "<div>\n",
       "<style scoped>\n",
       "    .dataframe tbody tr th:only-of-type {\n",
       "        vertical-align: middle;\n",
       "    }\n",
       "\n",
       "    .dataframe tbody tr th {\n",
       "        vertical-align: top;\n",
       "    }\n",
       "\n",
       "    .dataframe thead th {\n",
       "        text-align: right;\n",
       "    }\n",
       "</style>\n",
       "<table border=\"1\" class=\"dataframe\">\n",
       "  <thead>\n",
       "    <tr style=\"text-align: right;\">\n",
       "      <th></th>\n",
       "      <th>0</th>\n",
       "      <th>1</th>\n",
       "      <th>2</th>\n",
       "      <th>3</th>\n",
       "      <th>4</th>\n",
       "      <th>5</th>\n",
       "      <th>6</th>\n",
       "      <th>7</th>\n",
       "      <th>8</th>\n",
       "      <th>9</th>\n",
       "      <th>...</th>\n",
       "      <th>490</th>\n",
       "      <th>491</th>\n",
       "      <th>492</th>\n",
       "      <th>493</th>\n",
       "      <th>494</th>\n",
       "      <th>495</th>\n",
       "      <th>496</th>\n",
       "      <th>497</th>\n",
       "      <th>498</th>\n",
       "      <th>499</th>\n",
       "    </tr>\n",
       "  </thead>\n",
       "  <tbody>\n",
       "    <tr>\n",
       "      <th>0</th>\n",
       "      <td>1.000000</td>\n",
       "      <td>1.000000</td>\n",
       "      <td>1.000000</td>\n",
       "      <td>1.000000</td>\n",
       "      <td>1.000000</td>\n",
       "      <td>1.000000</td>\n",
       "      <td>1.000000</td>\n",
       "      <td>1.000000</td>\n",
       "      <td>1.000000</td>\n",
       "      <td>1.000000</td>\n",
       "      <td>...</td>\n",
       "      <td>1.000000</td>\n",
       "      <td>1.000000</td>\n",
       "      <td>1.000000</td>\n",
       "      <td>1.000000</td>\n",
       "      <td>1.000000</td>\n",
       "      <td>1.000000</td>\n",
       "      <td>1.000000</td>\n",
       "      <td>1.000000</td>\n",
       "      <td>1.000000</td>\n",
       "      <td>1.000000</td>\n",
       "    </tr>\n",
       "    <tr>\n",
       "      <th>1</th>\n",
       "      <td>0.998561</td>\n",
       "      <td>1.007223</td>\n",
       "      <td>0.993038</td>\n",
       "      <td>0.997932</td>\n",
       "      <td>1.001971</td>\n",
       "      <td>1.005858</td>\n",
       "      <td>0.994268</td>\n",
       "      <td>0.992866</td>\n",
       "      <td>1.010005</td>\n",
       "      <td>1.003267</td>\n",
       "      <td>...</td>\n",
       "      <td>1.000144</td>\n",
       "      <td>1.008213</td>\n",
       "      <td>1.015626</td>\n",
       "      <td>1.002981</td>\n",
       "      <td>1.006822</td>\n",
       "      <td>0.992649</td>\n",
       "      <td>1.014717</td>\n",
       "      <td>0.990689</td>\n",
       "      <td>0.994518</td>\n",
       "      <td>0.995898</td>\n",
       "    </tr>\n",
       "    <tr>\n",
       "      <th>2</th>\n",
       "      <td>0.984823</td>\n",
       "      <td>1.012748</td>\n",
       "      <td>1.004866</td>\n",
       "      <td>0.998700</td>\n",
       "      <td>1.006687</td>\n",
       "      <td>1.008904</td>\n",
       "      <td>1.006924</td>\n",
       "      <td>0.986734</td>\n",
       "      <td>0.994500</td>\n",
       "      <td>0.999164</td>\n",
       "      <td>...</td>\n",
       "      <td>0.996818</td>\n",
       "      <td>0.986490</td>\n",
       "      <td>1.022822</td>\n",
       "      <td>1.010621</td>\n",
       "      <td>1.005180</td>\n",
       "      <td>1.000599</td>\n",
       "      <td>1.008482</td>\n",
       "      <td>0.995204</td>\n",
       "      <td>0.994319</td>\n",
       "      <td>0.992104</td>\n",
       "    </tr>\n",
       "    <tr>\n",
       "      <th>3</th>\n",
       "      <td>0.985377</td>\n",
       "      <td>1.020766</td>\n",
       "      <td>0.997073</td>\n",
       "      <td>1.000850</td>\n",
       "      <td>0.999177</td>\n",
       "      <td>1.009300</td>\n",
       "      <td>1.008894</td>\n",
       "      <td>0.968470</td>\n",
       "      <td>0.988995</td>\n",
       "      <td>1.008711</td>\n",
       "      <td>...</td>\n",
       "      <td>0.999758</td>\n",
       "      <td>0.983573</td>\n",
       "      <td>1.011756</td>\n",
       "      <td>1.014794</td>\n",
       "      <td>1.010001</td>\n",
       "      <td>0.994857</td>\n",
       "      <td>0.998511</td>\n",
       "      <td>0.995873</td>\n",
       "      <td>1.001485</td>\n",
       "      <td>1.007137</td>\n",
       "    </tr>\n",
       "    <tr>\n",
       "      <th>4</th>\n",
       "      <td>0.981831</td>\n",
       "      <td>1.009503</td>\n",
       "      <td>1.006839</td>\n",
       "      <td>0.998735</td>\n",
       "      <td>1.001947</td>\n",
       "      <td>1.003156</td>\n",
       "      <td>1.007321</td>\n",
       "      <td>0.966592</td>\n",
       "      <td>0.992624</td>\n",
       "      <td>0.989985</td>\n",
       "      <td>...</td>\n",
       "      <td>1.002669</td>\n",
       "      <td>0.987000</td>\n",
       "      <td>1.008095</td>\n",
       "      <td>1.022339</td>\n",
       "      <td>1.011342</td>\n",
       "      <td>1.014828</td>\n",
       "      <td>0.996755</td>\n",
       "      <td>0.993555</td>\n",
       "      <td>1.012147</td>\n",
       "      <td>0.992359</td>\n",
       "    </tr>\n",
       "    <tr>\n",
       "      <th>...</th>\n",
       "      <td>...</td>\n",
       "      <td>...</td>\n",
       "      <td>...</td>\n",
       "      <td>...</td>\n",
       "      <td>...</td>\n",
       "      <td>...</td>\n",
       "      <td>...</td>\n",
       "      <td>...</td>\n",
       "      <td>...</td>\n",
       "      <td>...</td>\n",
       "      <td>...</td>\n",
       "      <td>...</td>\n",
       "      <td>...</td>\n",
       "      <td>...</td>\n",
       "      <td>...</td>\n",
       "      <td>...</td>\n",
       "      <td>...</td>\n",
       "      <td>...</td>\n",
       "      <td>...</td>\n",
       "      <td>...</td>\n",
       "      <td>...</td>\n",
       "    </tr>\n",
       "    <tr>\n",
       "      <th>7556</th>\n",
       "      <td>0.614632</td>\n",
       "      <td>3.235658</td>\n",
       "      <td>3.340547</td>\n",
       "      <td>1.302290</td>\n",
       "      <td>1.865771</td>\n",
       "      <td>1.546580</td>\n",
       "      <td>2.809898</td>\n",
       "      <td>2.734264</td>\n",
       "      <td>4.910185</td>\n",
       "      <td>9.034425</td>\n",
       "      <td>...</td>\n",
       "      <td>1.146041</td>\n",
       "      <td>6.356823</td>\n",
       "      <td>4.428123</td>\n",
       "      <td>1.304417</td>\n",
       "      <td>3.306404</td>\n",
       "      <td>5.565100</td>\n",
       "      <td>12.191282</td>\n",
       "      <td>4.245799</td>\n",
       "      <td>2.196749</td>\n",
       "      <td>3.125161</td>\n",
       "    </tr>\n",
       "    <tr>\n",
       "      <th>7557</th>\n",
       "      <td>0.608355</td>\n",
       "      <td>3.246132</td>\n",
       "      <td>3.342058</td>\n",
       "      <td>1.307853</td>\n",
       "      <td>1.869574</td>\n",
       "      <td>1.526502</td>\n",
       "      <td>2.806625</td>\n",
       "      <td>2.708703</td>\n",
       "      <td>4.982167</td>\n",
       "      <td>9.089090</td>\n",
       "      <td>...</td>\n",
       "      <td>1.136940</td>\n",
       "      <td>6.456380</td>\n",
       "      <td>4.380006</td>\n",
       "      <td>1.326152</td>\n",
       "      <td>3.313268</td>\n",
       "      <td>5.636713</td>\n",
       "      <td>12.120704</td>\n",
       "      <td>4.308567</td>\n",
       "      <td>2.215954</td>\n",
       "      <td>3.173032</td>\n",
       "    </tr>\n",
       "    <tr>\n",
       "      <th>7558</th>\n",
       "      <td>0.612858</td>\n",
       "      <td>3.209514</td>\n",
       "      <td>3.393051</td>\n",
       "      <td>1.319898</td>\n",
       "      <td>1.851619</td>\n",
       "      <td>1.527243</td>\n",
       "      <td>2.795253</td>\n",
       "      <td>2.730269</td>\n",
       "      <td>5.032824</td>\n",
       "      <td>8.948777</td>\n",
       "      <td>...</td>\n",
       "      <td>1.130454</td>\n",
       "      <td>6.478105</td>\n",
       "      <td>4.382189</td>\n",
       "      <td>1.315742</td>\n",
       "      <td>3.303713</td>\n",
       "      <td>5.641314</td>\n",
       "      <td>11.937320</td>\n",
       "      <td>4.309519</td>\n",
       "      <td>2.243925</td>\n",
       "      <td>3.207268</td>\n",
       "    </tr>\n",
       "    <tr>\n",
       "      <th>7559</th>\n",
       "      <td>0.618388</td>\n",
       "      <td>3.205083</td>\n",
       "      <td>3.384412</td>\n",
       "      <td>1.306480</td>\n",
       "      <td>1.858359</td>\n",
       "      <td>1.529661</td>\n",
       "      <td>2.784751</td>\n",
       "      <td>2.755680</td>\n",
       "      <td>5.039374</td>\n",
       "      <td>8.988124</td>\n",
       "      <td>...</td>\n",
       "      <td>1.137714</td>\n",
       "      <td>6.409617</td>\n",
       "      <td>4.426090</td>\n",
       "      <td>1.328110</td>\n",
       "      <td>3.286661</td>\n",
       "      <td>5.570025</td>\n",
       "      <td>11.992571</td>\n",
       "      <td>4.276444</td>\n",
       "      <td>2.202713</td>\n",
       "      <td>3.212442</td>\n",
       "    </tr>\n",
       "    <tr>\n",
       "      <th>7560</th>\n",
       "      <td>0.621535</td>\n",
       "      <td>3.142683</td>\n",
       "      <td>3.412990</td>\n",
       "      <td>1.336160</td>\n",
       "      <td>1.860494</td>\n",
       "      <td>1.531880</td>\n",
       "      <td>2.818870</td>\n",
       "      <td>2.766759</td>\n",
       "      <td>5.079333</td>\n",
       "      <td>8.968295</td>\n",
       "      <td>...</td>\n",
       "      <td>1.132944</td>\n",
       "      <td>6.487000</td>\n",
       "      <td>4.418290</td>\n",
       "      <td>1.330724</td>\n",
       "      <td>3.305303</td>\n",
       "      <td>5.545123</td>\n",
       "      <td>11.853502</td>\n",
       "      <td>4.380279</td>\n",
       "      <td>2.198650</td>\n",
       "      <td>3.245027</td>\n",
       "    </tr>\n",
       "  </tbody>\n",
       "</table>\n",
       "<p>7561 rows × 500 columns</p>\n",
       "</div>"
      ],
      "text/plain": [
       "           0         1         2         3         4         5         6    \\\n",
       "0     1.000000  1.000000  1.000000  1.000000  1.000000  1.000000  1.000000   \n",
       "1     0.998561  1.007223  0.993038  0.997932  1.001971  1.005858  0.994268   \n",
       "2     0.984823  1.012748  1.004866  0.998700  1.006687  1.008904  1.006924   \n",
       "3     0.985377  1.020766  0.997073  1.000850  0.999177  1.009300  1.008894   \n",
       "4     0.981831  1.009503  1.006839  0.998735  1.001947  1.003156  1.007321   \n",
       "...        ...       ...       ...       ...       ...       ...       ...   \n",
       "7556  0.614632  3.235658  3.340547  1.302290  1.865771  1.546580  2.809898   \n",
       "7557  0.608355  3.246132  3.342058  1.307853  1.869574  1.526502  2.806625   \n",
       "7558  0.612858  3.209514  3.393051  1.319898  1.851619  1.527243  2.795253   \n",
       "7559  0.618388  3.205083  3.384412  1.306480  1.858359  1.529661  2.784751   \n",
       "7560  0.621535  3.142683  3.412990  1.336160  1.860494  1.531880  2.818870   \n",
       "\n",
       "           7         8         9    ...       490       491       492  \\\n",
       "0     1.000000  1.000000  1.000000  ...  1.000000  1.000000  1.000000   \n",
       "1     0.992866  1.010005  1.003267  ...  1.000144  1.008213  1.015626   \n",
       "2     0.986734  0.994500  0.999164  ...  0.996818  0.986490  1.022822   \n",
       "3     0.968470  0.988995  1.008711  ...  0.999758  0.983573  1.011756   \n",
       "4     0.966592  0.992624  0.989985  ...  1.002669  0.987000  1.008095   \n",
       "...        ...       ...       ...  ...       ...       ...       ...   \n",
       "7556  2.734264  4.910185  9.034425  ...  1.146041  6.356823  4.428123   \n",
       "7557  2.708703  4.982167  9.089090  ...  1.136940  6.456380  4.380006   \n",
       "7558  2.730269  5.032824  8.948777  ...  1.130454  6.478105  4.382189   \n",
       "7559  2.755680  5.039374  8.988124  ...  1.137714  6.409617  4.426090   \n",
       "7560  2.766759  5.079333  8.968295  ...  1.132944  6.487000  4.418290   \n",
       "\n",
       "           493       494       495        496       497       498       499  \n",
       "0     1.000000  1.000000  1.000000   1.000000  1.000000  1.000000  1.000000  \n",
       "1     1.002981  1.006822  0.992649   1.014717  0.990689  0.994518  0.995898  \n",
       "2     1.010621  1.005180  1.000599   1.008482  0.995204  0.994319  0.992104  \n",
       "3     1.014794  1.010001  0.994857   0.998511  0.995873  1.001485  1.007137  \n",
       "4     1.022339  1.011342  1.014828   0.996755  0.993555  1.012147  0.992359  \n",
       "...        ...       ...       ...        ...       ...       ...       ...  \n",
       "7556  1.304417  3.306404  5.565100  12.191282  4.245799  2.196749  3.125161  \n",
       "7557  1.326152  3.313268  5.636713  12.120704  4.308567  2.215954  3.173032  \n",
       "7558  1.315742  3.303713  5.641314  11.937320  4.309519  2.243925  3.207268  \n",
       "7559  1.328110  3.286661  5.570025  11.992571  4.276444  2.202713  3.212442  \n",
       "7560  1.330724  3.305303  5.545123  11.853502  4.380279  2.198650  3.245027  \n",
       "\n",
       "[7561 rows x 500 columns]"
      ]
     },
     "execution_count": 58,
     "metadata": {},
     "output_type": "execute_result"
    }
   ],
   "source": [
    "# Run the Monte Carlo simulation to forecast 30 years cumulative returns\n",
    "MC_60_40_split_30_year.calc_cumulative_return()"
   ]
  },
  {
   "cell_type": "code",
   "execution_count": 72,
   "metadata": {},
   "outputs": [
    {
     "data": {
      "image/png": "[encoded data removed]",
      "text/plain": [
       "<Figure size 432x288 with 1 Axes>"
      ]
     },
     "metadata": {
      "needs_background": "light"
     },
     "output_type": "display_data"
    }
   ],
   "source": [
    "# Visualize the 30-year Monte Carlo simulation with a line plot\n",
    "MC_sim_line_plot_643 = MC_60_40_split_30_year.plot_simulation()"
   ]
  },
  {
   "cell_type": "code",
   "execution_count": 73,
   "metadata": {},
   "outputs": [
    {
     "data": {
      "image/png": "[encoded data removed]",
      "text/plain": [
       "<Figure size 432x288 with 1 Axes>"
      ]
     },
     "metadata": {
      "needs_background": "light"
     },
     "output_type": "display_data"
    }
   ],
   "source": [
    "# Visualize the probability distribution of the 30-year Monte Carlo simulation\n",
    "MC_sim_distribution_643 = MC_60_40_split_30_year.plot_distribution()"
   ]
  },
  {
   "cell_type": "code",
   "execution_count": 74,
   "metadata": {},
   "outputs": [
    {
     "name": "stdout",
     "output_type": "stream",
     "text": [
      "count           500.000000\n",
      "mean              5.133547\n",
      "std               5.131949\n",
      "min               0.323024\n",
      "25%               2.115196\n",
      "50%               3.824457\n",
      "75%               6.187760\n",
      "max              46.625109\n",
      "95% CI Lower      0.761759\n",
      "95% CI Upper     17.413116\n",
      "Name: 7560, dtype: float64\n"
     ]
    }
   ],
   "source": [
    "# Generate summary statistics from the 30-year Monte Carlo simulation results\n",
    "MC_summary_stats_643 = MC_60_40_split_30_year.summarize_cumulative_return()\n",
    "\n",
    "# Review the 30-year Monte Carlo summary statistics\n",
    "print(MC_summary_stats_643)"
   ]
  },
  {
   "cell_type": "markdown",
   "metadata": {},
   "source": [
    "### Analyze the Retirement Portfolio Forecasts"
   ]
  },
  {
   "cell_type": "code",
   "execution_count": 68,
   "metadata": {},
   "outputs": [
    {
     "name": "stdout",
     "output_type": "stream",
     "text": [
      "The total value of the stock & bond portion of the portfolio is $61828.60\n"
     ]
    }
   ],
   "source": [
    "# Print the current balance of the stock and bond portion of the portfolio\n",
    "print(f\"The total value of the stock & bond portion of the portfolio is ${total_stocks_bonds:.2f}\")"
   ]
  },
  {
   "cell_type": "code",
   "execution_count": 76,
   "metadata": {},
   "outputs": [
    {
     "name": "stdout",
     "output_type": "stream",
     "text": [
      "There is a 95% chance that the stock and bond portion of the portfolio with a weight of 60/40 over the next 30 years will end in the range of $47098.52 and $1076628.59\n"
     ]
    }
   ],
   "source": [
    "# Use the lower and upper `95%` confidence intervals to calculate the range of the possible outcomes for the current stock/bond portfolio\n",
    "ci_lower_thirty_cumulative_return_643 = MC_summary_stats_643[8] * total_stocks_bonds\n",
    "ci_upper_thirty_cumulative_return_643 = MC_summary_stats_643[9] * total_stocks_bonds\n",
    "\n",
    "# Print the result of your calculations\n",
    "print(f\"There is a 95% chance that the stock and bond portion of the portfolio with a weight of 60/40 over the next 30 years will end in the range of ${ci_lower_thirty_cumulative_return_643:.2f} and ${ci_upper_thirty_cumulative_return_643:.2f}\")"
   ]
  },
  {
   "cell_type": "markdown",
   "metadata": {},
   "source": [
    "### Forecast Cumulative Returns in 10 Years\n",
    "\n",
    "The CTO of the credit union is impressed with your work on these planning tools but wonders if 30 years is a long time to wait until retirement. So, your next task is to adjust the retirement portfolio and run a new Monte Carlo simulation to find out if the changes will allow members to retire earlier.\n",
    "\n",
    "For this new Monte Carlo simulation, do the following: \n",
    "\n",
    "- Forecast the cumulative returns for 10 years from now. Because of the shortened investment horizon (30 years to 10 years), the portfolio needs to invest more heavily in the riskier asset&mdash;that is, stock&mdash;to help accumulate wealth for retirement. \n",
    "\n",
    "- Adjust the weights of the retirement portfolio so that the composition for the Monte Carlo simulation consists of 20% bonds and 80% stocks. \n",
    "\n",
    "- Run the simulation over 500 samples, and use the same data that the API call to Alpaca generated.\n",
    "\n",
    "- Based on the new Monte Carlo simulation, answer the following questions in your Jupyter notebook:\n",
    "\n",
    "    - Using the current value of only the stock and bond portion of the member's portfolio and the summary statistics that you generated from the new Monte Carlo simulation, what are the lower and upper bounds for the expected value of the portfolio (with the new weights) with a 95% confidence interval?\n",
    "\n",
    "    - Will weighting the portfolio more heavily toward stocks allow the credit union members to retire after only 10 years?\n"
   ]
  },
  {
   "cell_type": "code",
   "execution_count": null,
   "metadata": {},
   "outputs": [],
   "source": [
    "# Configure a Monte Carlo simulation to forecast 10 years cumulative returns\n",
    "# The weights should be split 20% to AGG and 80% to SPY.\n",
    "# Run 500 samples.\n",
    "# YOUR CODE HERE\n",
    "\n",
    "# Review the simulation input data\n",
    "# YOUR CODE HERE\n"
   ]
  },
  {
   "cell_type": "code",
   "execution_count": null,
   "metadata": {},
   "outputs": [],
   "source": [
    "# Run the Monte Carlo simulation to forecast 10 years cumulative returns\n",
    "# YOUR CODE HERE\n"
   ]
  },
  {
   "cell_type": "code",
   "execution_count": null,
   "metadata": {},
   "outputs": [],
   "source": [
    "# Visualize the 10-year Monte Carlo simulation by creating an\n",
    "# overlay line plot\n",
    "# YOUR CODE HERE\n"
   ]
  },
  {
   "cell_type": "code",
   "execution_count": null,
   "metadata": {},
   "outputs": [],
   "source": [
    "# Visualize the probability distribution of the 10-year Monte Carlo simulation \n",
    "# by plotting a histogram\n",
    "# YOUR CODE HERE\n"
   ]
  },
  {
   "cell_type": "code",
   "execution_count": null,
   "metadata": {},
   "outputs": [],
   "source": [
    "# Generate summary statistics from the 10-year Monte Carlo simulation results\n",
    "# Save the results as a variable\n",
    "# YOUR CODE HERE\n",
    "\n",
    "\n",
    "# Review the 10-year Monte Carlo summary statistics\n",
    "# YOUR CODE HERE"
   ]
  },
  {
   "cell_type": "markdown",
   "metadata": {},
   "source": [
    "### Answer the following questions:"
   ]
  },
  {
   "cell_type": "markdown",
   "metadata": {},
   "source": [
    "#### Question: Using the current value of only the stock and bond portion of the member's portfolio and the summary statistics that you generated from the new Monte Carlo simulation, what are the lower and upper bounds for the expected value of the portfolio (with the new weights) with a 95% confidence interval?"
   ]
  },
  {
   "cell_type": "code",
   "execution_count": null,
   "metadata": {},
   "outputs": [],
   "source": [
    "# Print the current balance of the stock and bond portion of the members portfolio\n",
    "# YOUR CODE HERE\n"
   ]
  },
  {
   "cell_type": "code",
   "execution_count": null,
   "metadata": {},
   "outputs": [],
   "source": [
    "# Use the lower and upper `95%` confidence intervals to calculate the range of the possible outcomes for the current stock/bond portfolio\n",
    "ci_lower_ten_cumulative_return = # YOUR CODE HERE\n",
    "ci_upper_ten_cumulative_return = # YOUR CODE HERE\n",
    "\n",
    "# Print the result of your calculations\n",
    "# YOUR CODE HERE\n"
   ]
  },
  {
   "cell_type": "markdown",
   "metadata": {},
   "source": [
    "#### Question: Will weighting the portfolio more heavily to stocks allow the credit union members to retire after only 10 years?"
   ]
  },
  {
   "cell_type": "raw",
   "metadata": {},
   "source": [
    "**Answer** # YOUR ANSWER HERE"
   ]
  },
  {
   "cell_type": "code",
   "execution_count": null,
   "metadata": {},
   "outputs": [],
   "source": []
  }
 ],
 "metadata": {
  "kernelspec": {
   "display_name": "Python 3.7.13 ('dev')",
   "language": "python",
   "name": "python3"
  },
  "language_info": {
   "codemirror_mode": {
    "name": "ipython",
    "version": 3
   },
   "file_extension": ".py",
   "mimetype": "text/x-python",
   "name": "python",
   "nbconvert_exporter": "python",
   "pygments_lexer": "ipython3",
   "version": "3.7.13"
  },
  "vscode": {
   "interpreter": {
    "hash": "df4d0ebb962a50ea8808b6acf3e6d8dc386f186e351330be88d5cdd3472076a9"
   }
  }
 },
 "nbformat": 4,
 "nbformat_minor": 4
}
